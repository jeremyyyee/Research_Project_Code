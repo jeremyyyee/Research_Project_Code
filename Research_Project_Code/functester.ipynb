{
 "cells": [
  {
   "cell_type": "markdown",
   "metadata": {},
   "source": [
    "Initial code to investigate basic RL model for price minimisation of HVAC system.\n",
    "\n",
    "States:\n",
    "    - Room temp\n",
    "    - External temp\n",
    "    - Elec price\n",
    "\n",
    "Action:\n",
    "    - Choose temp setpoint\n",
    "\n",
    "Training methodology\n",
    "\n",
    "1. For each hourly timestep:\n",
    "    - Load internal temp, external temp, and current electricity price (states)\n",
    "    - Choose temperature setpoint (action)\n",
    "    - Simulate 60 mins of PI controller working\n",
    "        - Re calculating required heat load (Q_hvac) at each minute\n",
    "        - Step building thermal model 1 min (simulation_enviornment) to calc new internal temperature\n",
    "    - Final internal temperature calculation from thermal model (60th value) is internal temperature for next step\n",
    "    - Calculate reward\n",
    "\n",
    "Measured data required:\n",
    "    - Only need measurements for external temperature and electricity price\n",
    "    - Internal temperature can be initialised to any value close to desired setpoint,\n",
    "      then calculated from building thermal model\n",
    "    - Temperature setpoint chosen by RL agent\n",
    "    - HVAC heat load calculated from PI controller\n"
   ]
  },
  {
   "cell_type": "code",
   "execution_count": 1,
   "metadata": {},
   "outputs": [],
   "source": [
    "import numpy as np\n",
    "import pandas as pd\n",
    "import rl_hvac_training as rl\n",
    "import simulation_environment as sim_env\n",
    "from pi_controller import PIController, apply_system_constraints"
   ]
  },
  {
   "cell_type": "code",
   "execution_count": 2,
   "metadata": {},
   "outputs": [],
   "source": [
    "#Prices May-July 2022\n",
    "realprices = pd.read_csv(\"./input_data/3 year N2EX elec Prices.csv\")\n",
    "testprices = realprices.iloc[20424:22632]\n",
    "\n",
    "#Temperatures May-July 2023\n",
    "external_temps = pd.read_csv(\"./input_data/measured_external_temps_01052023-01082023.csv\", index_col = 0)"
   ]
  },
  {
   "cell_type": "code",
   "execution_count": 3,
   "metadata": {},
   "outputs": [
    {
     "name": "stdout",
     "output_type": "stream",
     "text": [
      "(51, 30, 65, 30)\n"
     ]
    },
    {
     "ename": "IndexError",
     "evalue": "index 51 is out of bounds for axis 0 with size 51",
     "output_type": "error",
     "traceback": [
      "\u001b[0;31m---------------------------------------------------------------------------\u001b[0m",
      "\u001b[0;31mIndexError\u001b[0m                                Traceback (most recent call last)",
      "\u001b[0;32m<ipython-input-3-0ca6b65f24f0>\u001b[0m in \u001b[0;36m<module>\u001b[0;34m\u001b[0m\n\u001b[1;32m      1\u001b[0m \u001b[0magent\u001b[0m \u001b[0;34m=\u001b[0m \u001b[0mrl\u001b[0m\u001b[0;34m.\u001b[0m\u001b[0mEpsilonGreedy\u001b[0m\u001b[0;34m(\u001b[0m\u001b[0;36m0.01\u001b[0m\u001b[0;34m)\u001b[0m\u001b[0;34m\u001b[0m\u001b[0;34m\u001b[0m\u001b[0m\n\u001b[0;32m----> 2\u001b[0;31m \u001b[0magent\u001b[0m\u001b[0;34m.\u001b[0m\u001b[0mrun\u001b[0m\u001b[0;34m(\u001b[0m\u001b[0;36m0.4\u001b[0m\u001b[0;34m,\u001b[0m\u001b[0;36m0.6\u001b[0m\u001b[0;34m,\u001b[0m\u001b[0mexternal_temps\u001b[0m\u001b[0;34m,\u001b[0m\u001b[0mtestprices\u001b[0m\u001b[0;34m)\u001b[0m\u001b[0;34m\u001b[0m\u001b[0;34m\u001b[0m\u001b[0m\n\u001b[0m",
      "\u001b[0;32m~/Documents/programming/RL_HVAC_UROP/rl-hvac-urop/rl_hvac_training.py\u001b[0m in \u001b[0;36mrun\u001b[0;34m(self, alpha, gamma, exttempsdf, pricingdf, mintemp, maxtemp, priceweight, comfortweight, initialvals)\u001b[0m\n\u001b[1;32m    108\u001b[0m             \u001b[0mnewstate\u001b[0m \u001b[0;34m=\u001b[0m \u001b[0mfindstate\u001b[0m\u001b[0;34m(\u001b[0m\u001b[0mtempin\u001b[0m\u001b[0;34m,\u001b[0m \u001b[0mexttempsdf\u001b[0m\u001b[0;34m.\u001b[0m\u001b[0miloc\u001b[0m\u001b[0;34m[\u001b[0m\u001b[0mt\u001b[0m \u001b[0;34m+\u001b[0m \u001b[0;36m1\u001b[0m\u001b[0;34m,\u001b[0m \u001b[0;36m0\u001b[0m\u001b[0;34m]\u001b[0m\u001b[0;34m,\u001b[0m \u001b[0mpricingdf\u001b[0m\u001b[0;34m.\u001b[0m\u001b[0miloc\u001b[0m\u001b[0;34m[\u001b[0m\u001b[0mt\u001b[0m \u001b[0;34m+\u001b[0m \u001b[0;36m1\u001b[0m\u001b[0;34m,\u001b[0m \u001b[0;36m1\u001b[0m\u001b[0;34m]\u001b[0m\u001b[0;34m)\u001b[0m  \u001b[0;31m# Observe S'\u001b[0m\u001b[0;34m\u001b[0m\u001b[0;34m\u001b[0m\u001b[0m\n\u001b[1;32m    109\u001b[0m             \u001b[0;31m# Q(S, A) ← Q(S, A) + α[R + γargmax Q(S', a) − Q(S, A)]\u001b[0m\u001b[0;34m\u001b[0m\u001b[0;34m\u001b[0m\u001b[0;34m\u001b[0m\u001b[0m\n\u001b[0;32m--> 110\u001b[0;31m             \u001b[0mqtable\u001b[0m\u001b[0;34m[\u001b[0m\u001b[0mcurrentstate\u001b[0m\u001b[0;34m,\u001b[0m \u001b[0mi\u001b[0m\u001b[0;34m]\u001b[0m \u001b[0;34m+=\u001b[0m \u001b[0malpha\u001b[0m \u001b[0;34m*\u001b[0m \u001b[0;34m(\u001b[0m\u001b[0mreward\u001b[0m \u001b[0;34m+\u001b[0m \u001b[0mgamma\u001b[0m \u001b[0;34m*\u001b[0m \u001b[0mnp\u001b[0m\u001b[0;34m.\u001b[0m\u001b[0mmax\u001b[0m\u001b[0;34m(\u001b[0m\u001b[0mqtable\u001b[0m\u001b[0;34m[\u001b[0m\u001b[0mnewstate\u001b[0m\u001b[0;34m,\u001b[0m \u001b[0;34m:\u001b[0m\u001b[0;34m]\u001b[0m\u001b[0;34m)\u001b[0m \u001b[0;34m-\u001b[0m \u001b[0mqtable\u001b[0m\u001b[0;34m[\u001b[0m\u001b[0mcurrentstate\u001b[0m\u001b[0;34m,\u001b[0m \u001b[0mi\u001b[0m\u001b[0;34m]\u001b[0m\u001b[0;34m)\u001b[0m\u001b[0;34m\u001b[0m\u001b[0;34m\u001b[0m\u001b[0m\n\u001b[0m\u001b[1;32m    111\u001b[0m             \u001b[0mtempsets\u001b[0m\u001b[0;34m.\u001b[0m\u001b[0mappend\u001b[0m\u001b[0;34m(\u001b[0m\u001b[0mt_sp\u001b[0m\u001b[0;34m)\u001b[0m\u001b[0;34m\u001b[0m\u001b[0;34m\u001b[0m\u001b[0m\n\u001b[1;32m    112\u001b[0m             \u001b[0mrewardslog\u001b[0m\u001b[0;34m.\u001b[0m\u001b[0mappend\u001b[0m\u001b[0;34m(\u001b[0m\u001b[0mreward\u001b[0m\u001b[0;34m)\u001b[0m\u001b[0;34m\u001b[0m\u001b[0;34m\u001b[0m\u001b[0m\n",
      "\u001b[0;31mIndexError\u001b[0m: index 51 is out of bounds for axis 0 with size 51"
     ]
    }
   ],
   "source": [
    "agent = rl.EpsilonGreedy(0.01)\n",
    "agent.run(0.4,0.6,external_temps,testprices)"
   ]
  },
  {
   "cell_type": "code",
   "execution_count": 4,
   "metadata": {},
   "outputs": [],
   "source": [
    "elec_prices = pd.read_excel(\"./input_data/fake_elec_prices.xlsx\")\n",
    "\n",
    "#  PI controller example\n",
    "T_sp = 25 # setpoint temperature\n",
    "T_internal = 18 # internal temperature\n",
    "q_max = 500000 # [W] maximum combined heat load for AHUs\n",
    "\n",
    "pi_controller = PIController(max_heat_duty=q_max)\n",
    "pi_signal = pi_controller.pi_signal(T_sp, T_internal)\n",
    "q_hvac = apply_system_constraints(pi_signal, q_max) # [W] HVAC heat load\n",
    "# thermal model example\n",
    "rc_vals = [0.0496, 0.5862, 0.1383, 59.01, 247.8, 0.1576, 0.0289, 1749100, 388300]\n",
    "sales_area_dims = [117, 64.866, 9] # width, length, height\n",
    "# initialise all RC model temperatures at the same value. Read MPC paper RC schematic to understand notation.\n",
    "T_init = [16]*13 # [\"T_w12\", \"T_w14\", \"T_w22\", \"T_w24\", \"T_w32\", \"T_w34\", \"T_w42\", \"T_w44\", \"T_r2\", \"T_r4\", \"T_i1\", \"T_i2\", \"T_in\"]\n",
    "thermal_model = sim_env.ThermalNetwork(rc_vals,sales_area_dims,T_init,dt=60) # number of second for each timestemp. Needs to be 60\n",
    "\n",
    "\"\"\"\n",
    "model_inputs is a vector (np.array), each column is detailed below with an example:\n",
    "    - [T_external_wall_1, T_external_wall_2, T_external_wall_3, T_external_wall_4, T_external_roof, q_hvac]\n",
    "    - T_external_wall_x and T_external_roof are all the same value of the measured external temperature\n",
    "    - need to resample and interpolate external temperatures to get minutely values. \n",
    "\"\"\"\n",
    "model_inputs = np.array([external_temps.iloc[0,0]] * 5 + [q_hvac]) # one example timestep\n",
    "next_timestep_temps = thermal_model.calcNextTimestep(model_inputs) # [\"T_w12\", \"T_w14\", \"T_w22\", \"T_w24\", \"T_w32\", \"T_w34\", \"T_w42\", \"T_w44\", \"T_r2\", \"T_r4\", \"T_i1\", \"T_i2\", \"T_in\"]\n"
   ]
  },
  {
   "cell_type": "code",
   "execution_count": 9,
   "metadata": {},
   "outputs": [
    {
     "data": {
      "text/plain": [
       "16.280718140126208"
      ]
     },
     "execution_count": 9,
     "metadata": {},
     "output_type": "execute_result"
    }
   ],
   "source": [
    "next_timestep_temps[-1]"
   ]
  },
  {
   "cell_type": "code",
   "execution_count": 4,
   "metadata": {},
   "outputs": [
    {
     "data": {
      "text/plain": [
       "65"
      ]
     },
     "execution_count": 4,
     "metadata": {},
     "output_type": "execute_result"
    }
   ],
   "source": [
    "rl.discretise(testprices, 1, 100)"
   ]
  },
  {
   "cell_type": "code",
   "execution_count": 6,
   "metadata": {},
   "outputs": [
    {
     "data": {
      "text/plain": [
       "0.64764"
      ]
     },
     "execution_count": 6,
     "metadata": {},
     "output_type": "execute_result"
    }
   ],
   "source": [
    "np.max(testprices.iloc[:,1])"
   ]
  },
  {
   "cell_type": "code",
   "execution_count": null,
   "metadata": {},
   "outputs": [],
   "source": [
    "np.max(external_temps.iloc[:,0]) - np.min(external_temps.iloc[:,0])"
   ]
  }
 ],
 "metadata": {
  "kernelspec": {
   "display_name": "base",
   "language": "python",
   "name": "python3"
  },
  "language_info": {
   "codemirror_mode": {
    "name": "ipython",
    "version": 3
   },
   "file_extension": ".py",
   "mimetype": "text/x-python",
   "name": "python",
   "nbconvert_exporter": "python",
   "pygments_lexer": "ipython3",
   "version": "3.8.8"
  },
  "orig_nbformat": 4
 },
 "nbformat": 4,
 "nbformat_minor": 2
}
